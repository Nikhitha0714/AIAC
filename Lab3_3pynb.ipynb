{
  "nbformat": 4,
  "nbformat_minor": 0,
  "metadata": {
    "colab": {
      "provenance": [],
      "authorship_tag": "ABX9TyMEwjUZvr9QHXntXpwakc4h",
      "include_colab_link": true
    },
    "kernelspec": {
      "name": "python3",
      "display_name": "Python 3"
    },
    "language_info": {
      "name": "python"
    }
  },
  "cells": [
    {
      "cell_type": "markdown",
      "metadata": {
        "id": "view-in-github",
        "colab_type": "text"
      },
      "source": [
        "<a href=\"https://colab.research.google.com/github/Nikhitha0714/AIAC/blob/main/Lab3_3pynb.ipynb\" target=\"_parent\"><img src=\"https://colab.research.google.com/assets/colab-badge.svg\" alt=\"Open In Colab\"/></a>"
      ]
    },
    {
      "cell_type": "markdown",
      "source": [
        "Task1:Try 3 different prompts to generate a factorial function.\n",
        "\n",
        "prompt1:write a functoin in python that calucatlate the factorial of non-negative integer using recursion\n",
        "\n",
        "prompt2:create a python functionthat computes factorial of a given number using a loop\n",
        "\n",
        "prompt3:implement a factorial functoin in python using the method and lambda function"
      ],
      "metadata": {
        "id": "AT9NdB59KJRi"
      }
    },
    {
      "cell_type": "code",
      "source": [
        "def recursive_factorial(n):\n",
        "    \"\"\"\n",
        "    Calculates the factorial of a non-negative integer using recursion.\n",
        "\n",
        "    Args:\n",
        "        n: The non-negative integer.\n",
        "\n",
        "    Returns:\n",
        "        The factorial of n.\n",
        "\n",
        "    Raises:\n",
        "        ValueError: If n is a negative integer.\n",
        "    \"\"\"\n",
        "    if not isinstance(n, int) or n < 0:\n",
        "        raise ValueError(\"Input must be a non-negative integer\")\n",
        "    if n == 0:\n",
        "        return 1\n",
        "    else:\n",
        "        return n * recursive_factorial(n - 1)\n",
        "\n",
        "# Example usage:\n",
        "try:\n",
        "    print(recursive_factorial(5))\n",
        "    print(recursive_factorial(0))\n",
        "    print(recursive_factorial(-2))\n",
        "except ValueError as e:\n",
        "    print(e)"
      ],
      "metadata": {
        "colab": {
          "base_uri": "https://localhost:8080/"
        },
        "id": "KzJCncNNOEr9",
        "outputId": "05d35afe-75f5-4481-a00c-411dc90fd961"
      },
      "execution_count": 2,
      "outputs": [
        {
          "output_type": "stream",
          "name": "stdout",
          "text": [
            "120\n",
            "1\n",
            "Input must be a non-negative integer\n"
          ]
        }
      ]
    },
    {
      "cell_type": "markdown",
      "source": [
        "prompt1\n",
        "Explanation:\n",
        "Input Validation: It first checks if the input n is a non-negative integer. If not, it raises a ValueError to indicate invalid input.\n",
        "Base Case: If n is 0, the function returns 1, as the factorial of 0 is 1. This is the base case that stops the recursion.\n",
        "Recursive Step: If n is greater than 0, the function calculates the factorial by multiplying n with the result of calling recursive_factorial with n-1. This recursive call continues until the base case (n=0) is reached.\n",
        "Example Usage: The code then demonstrates how to use the function with valid inputs (5 and 0) and an invalid input (-2). A try...except block is used to catch and print the ValueError when a negative input is provided."
      ],
      "metadata": {
        "id": "tFuWGotSOPd-"
      }
    },
    {
      "cell_type": "code",
      "source": [
        "def iterative_factorial(n):\n",
        "    \"\"\"\n",
        "    Calculates the factorial of a non-negative integer using a loop.\n",
        "\n",
        "    Args:\n",
        "        n: The non-negative integer.\n",
        "\n",
        "    Returns:\n",
        "        The factorial of n.\n",
        "\n",
        "    Raises:\n",
        "        ValueError: If n is a negative integer.\n",
        "    \"\"\"\n",
        "    if not isinstance(n, int) or n < 0:\n",
        "        raise ValueError(\"Input must be a non-negative integer\")\n",
        "    if n == 0:\n",
        "        return 1\n",
        "    else:\n",
        "        result = 1\n",
        "        for i in range(1, n + 1):\n",
        "            result *= i\n",
        "        return result\n",
        "\n",
        "# Example usage:\n",
        "try:\n",
        "    print(iterative_factorial(5))\n",
        "    print(iterative_factorial(0))\n",
        "    print(iterative_factorial(-2))\n",
        "except ValueError as e:\n",
        "    print(e)"
      ],
      "metadata": {
        "colab": {
          "base_uri": "https://localhost:8080/"
        },
        "id": "wsT1OWlrPJAg",
        "outputId": "6a93467c-f375-4c70-cfe3-b2c3117798c9"
      },
      "execution_count": 3,
      "outputs": [
        {
          "output_type": "stream",
          "name": "stdout",
          "text": [
            "120\n",
            "1\n",
            "Input must be a non-negative integer\n"
          ]
        }
      ]
    },
    {
      "cell_type": "markdown",
      "source": [
        "prompt2:\n",
        "Explanation:\n",
        "Input Validation: It first checks if the input n is a non-negative integer. If not, it raises a ValueError to indicate invalid input.\n",
        "Base Case: If n is 0, the function returns 1, as the factorial of 0 is 1.\n",
        "Iterative Calculation:\n",
        "If n is greater than 0, it initializes a variable result to 1.\n",
        "It then uses a for loop to iterate from 1 up to n.\n",
        "In each iteration, it multiplies the current result by the loop counter.\n",
        "After the loop completes, the final result (which is the factorial) is returned.\n",
        "Example Usage: The code includes a try...except block to show how to call the function and handle cases where a negative number is provided as input, which would raise a ValueError.\n",
        "This iterative approach calculates the factorial step-by-step by multiplying numbers in a sequence.\n",
        "\n",
        "\n"
      ],
      "metadata": {
        "id": "T4jxDMkTPb3r"
      }
    },
    {
      "cell_type": "code",
      "source": [
        "# Using a lambda function with a recursive approach\n",
        "factorial_lambda = lambda n: 1 if n == 0 else n * factorial_lambda(n - 1)\n",
        "\n",
        "# Example usage:\n",
        "try:\n",
        "    print(factorial_lambda(5))\n",
        "    print(factorial_lambda(0))\n",
        "    # Note: Lambda functions are typically not used with input validation\n",
        "    # in this concise form. Handling negative inputs would require\n",
        "    # a more complex lambda or external validation.\n",
        "    # print(factorial_lambda(-2)) # This would cause a RecursionError\n",
        "except RecursionError:\n",
        "    print(\"Input must be a non-negative integer for this lambda function.\")\n",
        "\n",
        "# Another approach using reduce from functools (requires importing reduce)\n",
        "from functools import reduce\n",
        "import operator\n",
        "\n",
        "def factorial_reduce(n):\n",
        "    if not isinstance(n, int) or n < 0:\n",
        "        raise ValueError(\"Input must be a non-negative integer\")\n",
        "    if n == 0:\n",
        "        return 1\n",
        "    else:\n",
        "        return reduce(operator.mul, range(1, n + 1))\n",
        "\n",
        "# Example usage:\n",
        "try:\n",
        "    print(factorial_reduce(5))\n",
        "    print(factorial_reduce(0))\n",
        "    print(factorial_reduce(-2))\n",
        "except ValueError as e:\n",
        "    print(e)"
      ],
      "metadata": {
        "colab": {
          "base_uri": "https://localhost:8080/"
        },
        "id": "o_N3-_CzP4-E",
        "outputId": "fba203b0-ca99-4180-be3b-e4fc7c975cb4"
      },
      "execution_count": 4,
      "outputs": [
        {
          "output_type": "stream",
          "name": "stdout",
          "text": [
            "120\n",
            "1\n",
            "120\n",
            "1\n",
            "Input must be a non-negative integer\n"
          ]
        }
      ]
    },
    {
      "cell_type": "markdown",
      "source": [
        "prompt3:\n",
        "explanation:Lambda Function:\n",
        "factorial_lambda = lambda n: 1 if n == 0 else n * factorial_lambda(n - 1): This creates a small, anonymous recursive function.\n",
        "It checks if n is 0 (base case, returns 1).\n",
        "Otherwise, it calls itself with n-1 and multiplies the result by n.\n",
        "Note that this lambda doesn't explicitly validate for negative inputs and would lead to a RecursionError for such cases.\n",
        "Using reduce:\n",
        "This approach uses the reduce function from the functools module and the mul operator from the operator module.\n",
        "reduce(operator.mul, range(1, n + 1)) effectively multiplies all numbers in the range from 1 to n.\n",
        "This method includes explicit input validation for non-negative integers."
      ],
      "metadata": {
        "id": "VwNxvBkMQEGh"
      }
    },
    {
      "cell_type": "markdown",
      "source": [
        "Task2:provide a clear example input-output prompt to generate a sorting function.\n",
        "\n",
        "prompt:input write a python code that genearte the staring function only.output write a python code to generate output of starting function."
      ],
      "metadata": {
        "id": "uDlOht5KQ7ue"
      }
    },
    {
      "cell_type": "code",
      "source": [
        "# input-write a python code that generates the sorting function only.\n",
        "def sort_list(data):\n",
        "    \"\"\"\n",
        "    Sorts a list in ascending order using the built-in sorted function.\n",
        "\n",
        "    Args:\n",
        "        data: A list.\n",
        "\n",
        "    Returns:\n",
        "        A new list containing the sorted elements.\n",
        "    \"\"\"\n",
        "    return sorted(data)\n",
        "\n",
        "# output-write a python code to generate output of sorting function.\n",
        "my_list = [3, 1, 4, 1, 5, 9, 2, 6]\n",
        "sorted_list = sort_list(my_list)\n",
        "print(sorted_list)"
      ],
      "metadata": {
        "colab": {
          "base_uri": "https://localhost:8080/"
        },
        "id": "c-UA8-nmUsKY",
        "outputId": "c5c96f7c-dcc4-4894-cbe2-b6f5e0ff524a"
      },
      "execution_count": 9,
      "outputs": [
        {
          "output_type": "stream",
          "name": "stdout",
          "text": [
            "[1, 1, 2, 3, 4, 5, 6, 9]\n"
          ]
        }
      ]
    },
    {
      "cell_type": "markdown",
      "source": [
        " Explanation:Function Definition:\n",
        "def sort_list(data): defines a function named sort_list that accepts a list called data.\n",
        "Sorting:\n",
        "return sorted(data) is the main part of the function. It uses Python's built-in sorted() function, which efficiently sorts the elements of the input list data and returns a new sorted list. The original list data remains unchanged.\n",
        "Example Usage:\n",
        "my_list = [3, 1, 4, 1, 5, 9, 2, 6] creates a sample list to be sorted.\n",
        "sorted_list = sort_list(my_list) calls the sort_list function with my_list and stores the returned sorted list in the sorted_list variable.\n",
        "print(sorted_list) then displays the contents of the sorted_list.\n"
      ],
      "metadata": {
        "id": "AY2euVgVVMJV"
      }
    },
    {
      "cell_type": "markdown",
      "source": [
        "Task3:Start with the vague prompt Generate python code to calculate power bill and\n",
        "improve it step-by-step\n",
        "\n",
        "prompt:Generate python code to calculate power bill and\n",
        "improve it step-by-step.\n"
      ],
      "metadata": {
        "id": "9RPlEpu_VV9n"
      }
    },
    {
      "cell_type": "code",
      "source": [
        "def calculate_power_bill_basic(consumption_kwh, rate_per_kwh):\n",
        "    \"\"\"\n",
        "    Calculates a basic power bill based on consumption and a flat rate.\n",
        "\n",
        "    Args:\n",
        "        consumption_kwh: The amount of electricity consumed in kWh (float).\n",
        "        rate_per_kwh: The cost per kWh (float).\n",
        "\n",
        "    Returns:\n",
        "        The total power bill amount (float).\n",
        "    \"\"\"\n",
        "    if consumption_kwh < 0 or rate_per_kwh < 0:\n",
        "        raise ValueError(\"Consumption and rate cannot be negative.\")\n",
        "\n",
        "    total_bill = consumption_kwh * rate_per_kwh\n",
        "    return total_bill\n",
        "\n",
        "# Example usage:\n",
        "try:\n",
        "    consumption = 250  # kWh\n",
        "    rate = 0.15      # $ per kWh\n",
        "    bill_amount = calculate_power_bill_basic(consumption, rate)\n",
        "    print(f\"Basic power bill for {consumption} kWh at ${rate}/kWh: ${bill_amount:.2f}\")\n",
        "\n",
        "    # Example with invalid input\n",
        "    # bill_amount_invalid = calculate_power_bill_basic(-100, 0.15)\n",
        "\n",
        "except ValueError as e:\n",
        "    print(f\"Error: {e}\")"
      ],
      "metadata": {
        "colab": {
          "base_uri": "https://localhost:8080/"
        },
        "id": "lUdTDfalV4qG",
        "outputId": "15d75e0f-cf5e-4765-dfd3-d87b4b6e25ff"
      },
      "execution_count": 10,
      "outputs": [
        {
          "output_type": "stream",
          "name": "stdout",
          "text": [
            "Basic power bill for 250 kWh at $0.15/kWh: $37.50\n"
          ]
        }
      ]
    },
    {
      "cell_type": "markdown",
      "source": [
        "Explaination:Function Definition: The function takes two inputs: consumption_kwh (electricity used) and rate_per_kwh (cost per unit of electricity).\n",
        "Input Validation: It includes a check to ensure that both consumption_kwh and rate_per_kwh are not negative. If either is negative, it raises a ValueError.\n",
        "Bill Calculation: If the inputs are valid, it calculates the total_bill by multiplying the consumption_kwh by the rate_per_kwh.\n",
        "Return Value: The function returns the calculated total_bill.\n",
        "Example Usage: The code then shows how to call this function with sample values (250 kWh at $0.15/kWh) and prints the result, formatted to two decimal places. It also includes a try...except block to catch and print the error message if invalid negative inputs are used."
      ],
      "metadata": {
        "id": "9y7VUlaOWNKc"
      }
    },
    {
      "cell_type": "markdown",
      "source": [
        "Task4:Write structured comments to help AI generate two linked functions (e.g., login_user()\n",
        "and register_user())\n",
        "\n",
        "prompt:Write a python code to generate structured comments to help AI generate two linked functions (e.g., login_user()\n",
        "and register_user())\n"
      ],
      "metadata": {
        "id": "FxlxAJKfW0FA"
      }
    },
    {
      "cell_type": "code",
      "source": [
        "#[markdown]\n",
        "# # Linked Functions: `register_user` and `login_user`\n",
        "#\n",
        "# The following comments are structured to guide an AI in generating two linked Python functions: `register_user` and `login_user`. These functions represent a common user authentication flow.\n",
        "#\n",
        "# %%\n",
        "# Function 1: register_user\n",
        "# Purpose: To register a new user with a username and password.\n",
        "# Arguments:\n",
        "# - username (str): The desired username for the new user.\n",
        "# - password (str): The desired password for the new user.\n",
        "# Behavior:\n",
        "# - Should check if the username already exists.\n",
        "# - If the username exists, it should return an error or indication of failure.\n",
        "# - If the username is available, it should securely store the username and a hashed version of the password.\n",
        "# - Should return a success message or indication upon successful registration.\n",
        "# - This function is typically called before login_user for a new user.\n",
        "# def register_user(username, password):\n",
        "#     # Implementation details here\n",
        "#     pass\n",
        "\n",
        "# Function 2: login_user\n",
        "# Purpose: To authenticate an existing user based on their username and password.\n",
        "# Arguments:\n",
        "# - username (str): The username of the user attempting to log in.\n",
        "# - password (str): The password provided by the user attempting to log in.\n",
        "# Behavior:\n",
        "# - Should check if the username exists in the stored user data.\n",
        "# - If the username does not exist, it should return an error or indication of failure (e.g., \"User not found\").\n",
        "# - If the username exists, it should compare the provided password (after hashing) with the stored hashed password for that username.\n",
        "# - If the passwords match, it should return a success message or an indication of successful login (e.g., a user object or token).\n",
        "# - If the passwords do not match, it should return an error or indication of failure (e.g., \"Incorrect password\").\n",
        "# - This function is typically called after a user has registered.\n",
        "# def login_user(username, password):\n",
        "#     # Implementation details here\n",
        "#     pass\n",
        "\n",
        "# Example Usage (can be generated by AI based on the functions above):\n",
        "# if register_user(\"testuser\", \"securepassword123\"):\n",
        "#     print(\"User registered successfully.\")\n",
        "#     if login_user(\"testuser\", \"securepassword123\"):\n",
        "#         print(\"User logged in successfully.\")\n",
        "#     else:\n",
        "#         print(\"Login failed.\")\n",
        "# else:\n",
        "#     print(\"Registration failed (username might be taken).\")"
      ],
      "metadata": {
        "id": "l_sEYv2mXtS0"
      },
      "execution_count": 13,
      "outputs": []
    },
    {
      "cell_type": "markdown",
      "source": [
        "Explanation:he comments are broken down for each function:\n",
        "\n",
        "register_user Comments: These explain the function's Purpose (registering a new user), its Arguments (username, password), and its required Behavior. The behavior specifies steps like checking if a username exists, securely storing the password (implying hashing), and indicating success or failure. It also mentions that this function is typically used before login_user.\n",
        "login_user Comments: These explain the purpose of this second function (authenticating an existing user), its Arguments, and its Behavior. The behavior includes checking if a user exists, comparing the provided password to the stored one (after hashing), and indicating success or different reasons for failure (user not found, incorrect password). It notes that this is typically used after register_user.\n"
      ],
      "metadata": {
        "id": "Jv9c0eBtYWZp"
      }
    },
    {
      "cell_type": "markdown",
      "source": [
        "Task5:Analyzing Prompt Specificity: Improving Temperature Conversion Function with\n",
        "Clear Instructions.\n",
        "\n",
        "prompt:write a python code for temperature conversion."
      ],
      "metadata": {
        "id": "KwJbtUxsY9Wz"
      }
    },
    {
      "cell_type": "code",
      "source": [
        "def celsius_to_fahrenheit(celsius):\n",
        "    \"\"\"\n",
        "    Converts temperature from Celsius to Fahrenheit.\n",
        "\n",
        "    Args:\n",
        "        celsius: Temperature in Celsius (float or int).\n",
        "\n",
        "    Returns:\n",
        "        Temperature in Fahrenheit (float).\n",
        "    \"\"\"\n",
        "    fahrenheit = (celsius * 9/5) + 32\n",
        "    return fahrenheit\n",
        "\n",
        "def fahrenheit_to_celsius(fahrenheit):\n",
        "    \"\"\"\n",
        "    Converts temperature from Fahrenheit to Celsius.\n",
        "\n",
        "    Args:\n",
        "        fahrenheit: Temperature in Fahrenheit (float or int).\n",
        "\n",
        "    Returns:\n",
        "        Temperature in Celsius (float).\n",
        "    \"\"\"\n",
        "    celsius = (fahrenheit - 32) * 5/9\n",
        "    return celsius\n",
        "\n",
        "# Example usage:\n",
        "c_temp = 25\n",
        "f_temp = celsius_to_fahrenheit(c_temp)\n",
        "print(f\"{c_temp}°C is equal to {f_temp}°F\")\n",
        "\n",
        "f_temp2 = 77\n",
        "c_temp2 = fahrenheit_to_celsius(f_temp2)\n",
        "print(f\"{f_temp2}°F is equal to {c_temp2}°C\")"
      ],
      "metadata": {
        "colab": {
          "base_uri": "https://localhost:8080/"
        },
        "id": "VoDLLywPZQui",
        "outputId": "fe357c9b-08b5-4079-9d5b-b7ed802c08e6"
      },
      "execution_count": 14,
      "outputs": [
        {
          "output_type": "stream",
          "name": "stdout",
          "text": [
            "25°C is equal to 77.0°F\n",
            "77°F is equal to 25.0°C\n"
          ]
        }
      ]
    },
    {
      "cell_type": "markdown",
      "source": [
        "explanation:celsius_to_fahrenheit(celsius): This function takes a temperature in Celsius and applies the standard formula (Celsius * 9/5) + 32 to convert it to Fahrenheit. It then returns the Fahrenheit value.\n",
        "fahrenheit_to_celsius(fahrenheit): This function takes a temperature in Fahrenheit and applies the standard formula (Fahrenheit - 32) * 5/9 to convert it to Celsius. It then returns the Celsius value.\n",
        "The code also includes Example Usage where it calls both functions with sample temperatures (25°C and 77°F) and prints the results, showing the conversions work correctly."
      ],
      "metadata": {
        "id": "rRTCl2YEZamV"
      }
    },
    {
      "cell_type": "code",
      "source": [],
      "metadata": {
        "id": "kpYq_PuhZrA5"
      },
      "execution_count": null,
      "outputs": []
    }
  ]
}