{
  "nbformat": 4,
  "nbformat_minor": 0,
  "metadata": {
    "colab": {
      "provenance": [],
      "authorship_tag": "ABX9TyMogLQuCFjH1k5vllU4zYTv",
      "include_colab_link": true
    },
    "kernelspec": {
      "name": "python3",
      "display_name": "Python 3"
    },
    "language_info": {
      "name": "python"
    }
  },
  "cells": [
    {
      "cell_type": "markdown",
      "metadata": {
        "id": "view-in-github",
        "colab_type": "text"
      },
      "source": [
        "<a href=\"https://colab.research.google.com/github/Nikhitha0714/AIAC/blob/main/Lab3_3pynb.ipynb\" target=\"_parent\"><img src=\"https://colab.research.google.com/assets/colab-badge.svg\" alt=\"Open In Colab\"/></a>"
      ]
    },
    {
      "cell_type": "markdown",
      "source": [
        "Task1:Try 3 different prompts to generate a factorial function.\n",
        "\n",
        "prompt1:write a functoin in python that calucatlate the factorial of non-negative integer using recursion\n",
        "\n",
        "prompt2:create a python functionthat computes factorial of a given number using a loop\n",
        "\n",
        "prompt3:implement a factorial functoin in python using the method and lambda function"
      ],
      "metadata": {
        "id": "AT9NdB59KJRi"
      }
    },
    {
      "cell_type": "code",
      "source": [
        "def recursive_factorial(n):\n",
        "    \"\"\"\n",
        "    Calculates the factorial of a non-negative integer using recursion.\n",
        "\n",
        "    Args:\n",
        "        n: The non-negative integer.\n",
        "\n",
        "    Returns:\n",
        "        The factorial of n.\n",
        "\n",
        "    Raises:\n",
        "        ValueError: If n is a negative integer.\n",
        "    \"\"\"\n",
        "    if not isinstance(n, int) or n < 0:\n",
        "        raise ValueError(\"Input must be a non-negative integer\")\n",
        "    if n == 0:\n",
        "        return 1\n",
        "    else:\n",
        "        return n * recursive_factorial(n - 1)\n",
        "\n",
        "# Example usage:\n",
        "try:\n",
        "    print(recursive_factorial(5))\n",
        "    print(recursive_factorial(0))\n",
        "    print(recursive_factorial(-2))\n",
        "except ValueError as e:\n",
        "    print(e)"
      ],
      "metadata": {
        "colab": {
          "base_uri": "https://localhost:8080/"
        },
        "id": "KzJCncNNOEr9",
        "outputId": "05d35afe-75f5-4481-a00c-411dc90fd961"
      },
      "execution_count": 2,
      "outputs": [
        {
          "output_type": "stream",
          "name": "stdout",
          "text": [
            "120\n",
            "1\n",
            "Input must be a non-negative integer\n"
          ]
        }
      ]
    },
    {
      "cell_type": "markdown",
      "source": [
        "prompt1\n",
        "Explanation:\n",
        "Input Validation: It first checks if the input n is a non-negative integer. If not, it raises a ValueError to indicate invalid input.\n",
        "Base Case: If n is 0, the function returns 1, as the factorial of 0 is 1. This is the base case that stops the recursion.\n",
        "Recursive Step: If n is greater than 0, the function calculates the factorial by multiplying n with the result of calling recursive_factorial with n-1. This recursive call continues until the base case (n=0) is reached.\n",
        "Example Usage: The code then demonstrates how to use the function with valid inputs (5 and 0) and an invalid input (-2). A try...except block is used to catch and print the ValueError when a negative input is provided."
      ],
      "metadata": {
        "id": "tFuWGotSOPd-"
      }
    },
    {
      "cell_type": "code",
      "source": [
        "def iterative_factorial(n):\n",
        "    \"\"\"\n",
        "    Calculates the factorial of a non-negative integer using a loop.\n",
        "\n",
        "    Args:\n",
        "        n: The non-negative integer.\n",
        "\n",
        "    Returns:\n",
        "        The factorial of n.\n",
        "\n",
        "    Raises:\n",
        "        ValueError: If n is a negative integer.\n",
        "    \"\"\"\n",
        "    if not isinstance(n, int) or n < 0:\n",
        "        raise ValueError(\"Input must be a non-negative integer\")\n",
        "    if n == 0:\n",
        "        return 1\n",
        "    else:\n",
        "        result = 1\n",
        "        for i in range(1, n + 1):\n",
        "            result *= i\n",
        "        return result\n",
        "\n",
        "# Example usage:\n",
        "try:\n",
        "    print(iterative_factorial(5))\n",
        "    print(iterative_factorial(0))\n",
        "    print(iterative_factorial(-2))\n",
        "except ValueError as e:\n",
        "    print(e)"
      ],
      "metadata": {
        "colab": {
          "base_uri": "https://localhost:8080/"
        },
        "id": "wsT1OWlrPJAg",
        "outputId": "6a93467c-f375-4c70-cfe3-b2c3117798c9"
      },
      "execution_count": 3,
      "outputs": [
        {
          "output_type": "stream",
          "name": "stdout",
          "text": [
            "120\n",
            "1\n",
            "Input must be a non-negative integer\n"
          ]
        }
      ]
    },
    {
      "cell_type": "markdown",
      "source": [
        "prompt2:\n",
        "Explanation:\n",
        "Input Validation: It first checks if the input n is a non-negative integer. If not, it raises a ValueError to indicate invalid input.\n",
        "Base Case: If n is 0, the function returns 1, as the factorial of 0 is 1.\n",
        "Iterative Calculation:\n",
        "If n is greater than 0, it initializes a variable result to 1.\n",
        "It then uses a for loop to iterate from 1 up to n.\n",
        "In each iteration, it multiplies the current result by the loop counter.\n",
        "After the loop completes, the final result (which is the factorial) is returned.\n",
        "Example Usage: The code includes a try...except block to show how to call the function and handle cases where a negative number is provided as input, which would raise a ValueError.\n",
        "This iterative approach calculates the factorial step-by-step by multiplying numbers in a sequence.\n",
        "\n",
        "\n"
      ],
      "metadata": {
        "id": "T4jxDMkTPb3r"
      }
    },
    {
      "cell_type": "code",
      "source": [
        "# Using a lambda function with a recursive approach\n",
        "factorial_lambda = lambda n: 1 if n == 0 else n * factorial_lambda(n - 1)\n",
        "\n",
        "# Example usage:\n",
        "try:\n",
        "    print(factorial_lambda(5))\n",
        "    print(factorial_lambda(0))\n",
        "    # Note: Lambda functions are typically not used with input validation\n",
        "    # in this concise form. Handling negative inputs would require\n",
        "    # a more complex lambda or external validation.\n",
        "    # print(factorial_lambda(-2)) # This would cause a RecursionError\n",
        "except RecursionError:\n",
        "    print(\"Input must be a non-negative integer for this lambda function.\")\n",
        "\n",
        "# Another approach using reduce from functools (requires importing reduce)\n",
        "from functools import reduce\n",
        "import operator\n",
        "\n",
        "def factorial_reduce(n):\n",
        "    if not isinstance(n, int) or n < 0:\n",
        "        raise ValueError(\"Input must be a non-negative integer\")\n",
        "    if n == 0:\n",
        "        return 1\n",
        "    else:\n",
        "        return reduce(operator.mul, range(1, n + 1))\n",
        "\n",
        "# Example usage:\n",
        "try:\n",
        "    print(factorial_reduce(5))\n",
        "    print(factorial_reduce(0))\n",
        "    print(factorial_reduce(-2))\n",
        "except ValueError as e:\n",
        "    print(e)"
      ],
      "metadata": {
        "colab": {
          "base_uri": "https://localhost:8080/"
        },
        "id": "o_N3-_CzP4-E",
        "outputId": "fba203b0-ca99-4180-be3b-e4fc7c975cb4"
      },
      "execution_count": 4,
      "outputs": [
        {
          "output_type": "stream",
          "name": "stdout",
          "text": [
            "120\n",
            "1\n",
            "120\n",
            "1\n",
            "Input must be a non-negative integer\n"
          ]
        }
      ]
    },
    {
      "cell_type": "markdown",
      "source": [
        "prompt3:\n",
        "explanation:Lambda Function:\n",
        "factorial_lambda = lambda n: 1 if n == 0 else n * factorial_lambda(n - 1): This creates a small, anonymous recursive function.\n",
        "It checks if n is 0 (base case, returns 1).\n",
        "Otherwise, it calls itself with n-1 and multiplies the result by n.\n",
        "Note that this lambda doesn't explicitly validate for negative inputs and would lead to a RecursionError for such cases.\n",
        "Using reduce:\n",
        "This approach uses the reduce function from the functools module and the mul operator from the operator module.\n",
        "reduce(operator.mul, range(1, n + 1)) effectively multiplies all numbers in the range from 1 to n.\n",
        "This method includes explicit input validation for non-negative integers."
      ],
      "metadata": {
        "id": "VwNxvBkMQEGh"
      }
    },
    {
      "cell_type": "code",
      "source": [],
      "metadata": {
        "id": "E_VbqvnBQm-I"
      },
      "execution_count": null,
      "outputs": []
    }
  ]
}