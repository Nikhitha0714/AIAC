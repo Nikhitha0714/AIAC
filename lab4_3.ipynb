{
  "nbformat": 4,
  "nbformat_minor": 0,
  "metadata": {
    "colab": {
      "provenance": [],
      "authorship_tag": "ABX9TyP9x+AviR6hj/g/eZAB4uCK",
      "include_colab_link": true
    },
    "kernelspec": {
      "name": "python3",
      "display_name": "Python 3"
    },
    "language_info": {
      "name": "python"
    }
  },
  "cells": [
    {
      "cell_type": "markdown",
      "metadata": {
        "id": "view-in-github",
        "colab_type": "text"
      },
      "source": [
        "<a href=\"https://colab.research.google.com/github/Nikhitha0714/AIAC/blob/main/lab4_3.ipynb\" target=\"_parent\"><img src=\"https://colab.research.google.com/assets/colab-badge.svg\" alt=\"Open In Colab\"/></a>"
      ]
    },
    {
      "cell_type": "markdown",
      "source": [
        "Task1: write a function that checks whether a given year is a leap year.\n",
        "\n",
        "prompt: write a function that checks whether a given year is a leap year.\n"
      ],
      "metadata": {
        "id": "WdTHn4ouC8AQ"
      }
    },
    {
      "cell_type": "code",
      "source": [
        "def is_leap(year):\n",
        "    \"\"\"\n",
        "    Checks if a given year is a leap year.\n",
        "\n",
        "    Args:\n",
        "        year: An integer representing the year.\n",
        "\n",
        "    Returns:\n",
        "        True if the year is a leap year, False otherwise.\n",
        "    \"\"\"\n",
        "    if (year % 4 == 0 and year % 100 != 0) or (year % 400 == 0):\n",
        "        return True\n",
        "    else:\n",
        "        return False\n",
        "\n",
        "# Example usage:\n",
        "print(is_leap(2000))\n",
        "print(is_leap(1900))\n",
        "print(is_leap(2024))"
      ],
      "metadata": {
        "colab": {
          "base_uri": "https://localhost:8080/"
        },
        "id": "7ePRZ2jJDhRT",
        "outputId": "7ce89533-a7c6-4be5-99c4-db413ad20ee2"
      },
      "execution_count": 1,
      "outputs": [
        {
          "output_type": "stream",
          "name": "stdout",
          "text": [
            "True\n",
            "False\n",
            "True\n"
          ]
        }
      ]
    },
    {
      "cell_type": "markdown",
      "source": [
        "Explanation:def is_leap(year):: This line defines the function named is_leap which takes one argument, year.\n",
        "Docstring: The triple-quoted string is a docstring, explaining what the function does, its arguments, and what it returns.\n",
        "if (year % 4 == 0 and year % 100 != 0) or (year % 400 == 0):: This is the core logic.\n",
        "year % 4 == 0: Checks if the year is divisible by 4.\n",
        "year % 100 != 0: Checks if the year is not divisible by 100.\n",
        "year % 400 == 0: Checks if the year is divisible by 400.\n",
        "The condition (year % 4 == 0 and year % 100 != 0) is true for most leap years (divisible by 4 but not by 100).\n",
        "The condition (year % 400 == 0) handles the exception for years divisible by 100 (they are only leap years if also divisible by 400).\n",
        "The or combines these conditions: a year is a leap year if it satisfies either the first condition or the second.\n",
        "return True: If the condition in the if statement is met, the function returns True.\n",
        "else: return False: If the condition is not met, the function returns False.\n",
        "Example usage: The lines print(is_leap(2000)), print(is_leap(1900)), and print(is_leap(2024)) demonstrate how to call the function with different years and print the results.\n"
      ],
      "metadata": {
        "id": "1X7-XIhlDwpE"
      }
    },
    {
      "cell_type": "markdown",
      "source": [
        "Task2: Give one input-output example to guide AI in writing a function that\n",
        "converts centimeters to inches.\n",
        "\n",
        "prompt:  write a python code Give one input-output example to guide AI in writing a function that\n",
        "converts centimeters to inches"
      ],
      "metadata": {
        "id": "gc_57EGIEDS0"
      }
    },
    {
      "cell_type": "code",
      "source": [
        "def cm_to_inches(cm):\n",
        "  \"\"\"\n",
        "  Converts centimeters to inches.\n",
        "\n",
        "  Args:\n",
        "    cm: The length in centimeters.\n",
        "\n",
        "  Returns:\n",
        "    The length in inches.\n",
        "  \"\"\"\n",
        "  return cm * 0.393701\n",
        "\n",
        "# Example usage based on the provided example:\n",
        "print(f\"10 centimeters is equal to {cm_to_inches(10):.3f} inches\")"
      ],
      "metadata": {
        "colab": {
          "base_uri": "https://localhost:8080/"
        },
        "id": "n_qAu2GWEPiZ",
        "outputId": "59d2ce04-e14f-439a-f852-c22949188404"
      },
      "execution_count": 2,
      "outputs": [
        {
          "output_type": "stream",
          "name": "stdout",
          "text": [
            "10 centimeters is equal to 3.937 inches\n"
          ]
        }
      ]
    },
    {
      "cell_type": "markdown",
      "source": [
        "Explanation:def cm_to_inches(cm):: This line defines the function named cm_to_inches which takes one argument, cm, representing the length in centimeters.\n",
        "Docstring: The triple-quoted string is a docstring, explaining what the function does, its arguments, and what it returns.\n",
        "return cm * 0.393701: This is the core of the conversion. It multiplies the input value cm by the conversion factor 0.393701 (which is the approximate number of inches in one centimeter) and returns the result.\n",
        "Example usage: The line print(f\"10 centimeters is equal to {cm_to_inches(10):.3f} inches\") demonstrates how to call the function with an input of 10 centimeters. The f-string is used to format the output nicely, and :.3f formats the result to three decimal places."
      ],
      "metadata": {
        "id": "Sofh8l4qEs3a"
      }
    },
    {
      "cell_type": "markdown",
      "source": [
        "Task3:Provide 2–3 examples to generate a function that formats full names as\n",
        "“Last, First\".\n",
        "\n",
        "prompt: write a python code Provide 2–3 examples to generate a function that formats full names as\n",
        "“Last, First\".and well-structured function respecting the examples"
      ],
      "metadata": {
        "id": "JY8tahR-E1zw"
      }
    },
    {
      "cell_type": "code",
      "source": [],
      "metadata": {
        "id": "d5irDzYxFQzk"
      },
      "execution_count": null,
      "outputs": []
    },
    {
      "cell_type": "code",
      "metadata": {
        "colab": {
          "base_uri": "https://localhost:8080/"
        },
        "id": "1fecd4f8",
        "outputId": "15e2b088-6381-4094-e07c-cf55e77fbf40"
      },
      "source": [
        "def format_name(full_name):\n",
        "  \"\"\"\n",
        "  Formats a full name as \"Last, First\".\n",
        "\n",
        "  Args:\n",
        "    full_name: A string containing the full name (e.g., \"First Last\").\n",
        "\n",
        "  Returns:\n",
        "    A string with the name formatted as \"Last, First\".\n",
        "  \"\"\"\n",
        "  names = full_name.split()\n",
        "  if len(names) >= 2:\n",
        "    return f\"{names[-1]}, {' '.join(names[:-1])}\"\n",
        "  else:\n",
        "    return full_name # Return original name if not enough parts\n",
        "\n",
        "# Example usage based on the provided examples:\n",
        "print(format_name(\"John Doe\"))\n",
        "print(format_name(\"Jane Smith\"))\n",
        "print(format_name(\"Peter Jones\"))\n",
        "print(format_name(\"Cher\")) # Example with one name"
      ],
      "execution_count": 3,
      "outputs": [
        {
          "output_type": "stream",
          "name": "stdout",
          "text": [
            "Doe, John\n",
            "Smith, Jane\n",
            "Jones, Peter\n",
            "Cher\n"
          ]
        }
      ]
    },
    {
      "cell_type": "markdown",
      "source": [
        "Explanation:def format_name(full_name):: This line defines the function named format_name which takes one argument, full_name, which is expected to be a string containing the full name.\n",
        "Docstring: The triple-quoted string is a docstring, explaining what the function does, its arguments, and what it returns.\n",
        "names = full_name.split(): This line splits the input full_name string into a list of strings using spaces as the delimiter. For example, \"John Doe\" would become ['John', 'Doe'].\n",
        "if len(names) >= 2:: This checks if the names list has two or more elements. This is to ensure there is at least a first and a last name to work with.\n",
        "return f\"{names[-1]}, {' '.join(names[:-1])}\": If the condition in the if statement is true (two or more names):\n",
        "names[-1] accesses the last element in the names list (which is assumed to be the last name).\n",
        "names[:-1] creates a slice of the names list containing all elements except the last one (which are assumed to be the first name or names).\n",
        "' '.join(names[:-1]) joins the elements in the slice back into a single string with spaces in between (handling cases with middle names).\n",
        "The f-string f\"{names[-1]}, {' '.join(names[:-1])}\" formats the output as \"Last, First\".\n",
        "else: return full_name: If the names list has fewer than two elements (e.g., a single name), the function returns the original full_name without modification.\n",
        "Example usage: The print statements demonstrate how to call the function with different names and print the formatted results."
      ],
      "metadata": {
        "id": "s5z8zKvYFpgb"
      }
    },
    {
      "cell_type": "markdown",
      "source": [
        "Task4:Compare zero-shot and few-shot prompts for writing a function that counts the\n",
        "number of vowels in a string.\n",
        "\n",
        "prompt:write a python code  writing a function that counts the number of vowels in a string."
      ],
      "metadata": {
        "id": "gQ017AbMF6F2"
      }
    },
    {
      "cell_type": "code",
      "source": [
        "def count_vowels(text):\n",
        "  \"\"\"\n",
        "  Counts the number of vowels in a string.\n",
        "\n",
        "  Args:\n",
        "    text: The input string.\n",
        "\n",
        "  Returns:\n",
        "    The number of vowels in the string.\n",
        "  \"\"\"\n",
        "  vowels = \"aeiouAEIOU\"\n",
        "  count = 0\n",
        "  for char in text:\n",
        "    if char in vowels:\n",
        "      count += 1\n",
        "  return count\n",
        "\n",
        "# Example usage:\n",
        "print(f\"The number of vowels in 'hello' is: {count_vowels('hello')}\")\n",
        "print(f\"The number of vowels in 'programming' is: {count_vowels('programming')}\")\n",
        "print(f\"The number of vowels in 'AI' is: {count_vowels('AI')}\")\n",
        "print(f\"The number of vowels in 'Rhythm' is: {count_vowels('Rhythm')}\")"
      ],
      "metadata": {
        "colab": {
          "base_uri": "https://localhost:8080/"
        },
        "id": "Hx_O5sSOGV8W",
        "outputId": "19fce7dc-3ac5-445f-a2de-f9b2c4ffead3"
      },
      "execution_count": 4,
      "outputs": [
        {
          "output_type": "stream",
          "name": "stdout",
          "text": [
            "The number of vowels in 'hello' is: 2\n",
            "The number of vowels in 'programming' is: 3\n",
            "The number of vowels in 'AI' is: 2\n",
            "The number of vowels in 'Rhythm' is: 0\n"
          ]
        }
      ]
    },
    {
      "cell_type": "markdown",
      "source": [
        "Explanation:def count_vowels(text):: This line defines the function named count_vowels which takes one argument, text, representing the input string.\n",
        "Docstring: The triple-quoted string is a docstring, explaining what the function does, its arguments, and what it returns.\n",
        "vowels = \"aeiouAEIOU\": This line creates a string containing all lowercase and uppercase vowels. This string is used to easily check if a character is a vowel.\n",
        "count = 0: This line initializes a variable count to 0. This variable will store the number of vowels found in the string.\n",
        "for char in text:: This line starts a for loop that iterates through each character (char) in the input text string.\n",
        "if char in vowels:: Inside the loop, this line checks if the current char is present in the vowels string.\n",
        "count += 1: If the character is a vowel, this line increments the count by 1.\n",
        "return count: After the loop has finished iterating through all characters, this line returns the final value of count, which is the total number of vowels in the string.\n",
        "Example usage: The print statements demonstrate how to call the function with different strings and print the results.\n"
      ],
      "metadata": {
        "id": "Q4RaHJKFGk8_"
      }
    },
    {
      "cell_type": "markdown",
      "source": [
        "Task5:Generate a function that reads a .txt file and returns the number of lines.\n",
        "\n",
        "prompt: write a python code and generate a funtion that reads a .text file and returns the number of lines Working file-processing function with AI-guided logic"
      ],
      "metadata": {
        "id": "SXdx_kHzG2RP"
      }
    },
    {
      "cell_type": "code",
      "source": [
        "def count_lines_in_file(filepath):\n",
        "  \"\"\"\n",
        "  Reads a text file and returns the number of lines.\n",
        "\n",
        "  Args:\n",
        "    filepath: The path to the text file.\n",
        "\n",
        "  Returns:\n",
        "    The number of lines in the file, or -1 if the file cannot be read.\n",
        "  \"\"\"\n",
        "  try:\n",
        "    with open(filepath, 'r') as file:\n",
        "      line_count = sum(1 for line in file)\n",
        "    return line_count\n",
        "  except FileNotFoundError:\n",
        "    print(f\"Error: File not found at {filepath}\")\n",
        "    return -1\n",
        "  except Exception as e:\n",
        "    print(f\"An error occurred: {e}\")\n",
        "    return -1\n",
        "\n",
        "# Example usage:\n",
        "# Create a dummy text file for demonstration\n",
        "with open(\"my_text_file.txt\", \"w\") as f:\n",
        "    f.write(\"This is the first line.\\n\")\n",
        "    f.write(\"This is the second line.\\n\")\n",
        "    f.write(\"This is the third line.\\n\")\n",
        "\n",
        "file_path = \"my_text_file.txt\"\n",
        "line_count = count_lines_in_file(file_path)\n",
        "\n",
        "if line_count != -1:\n",
        "  print(f\"The file '{file_path}' has {line_count} lines.\")\n",
        "\n",
        "# Example with a non-existent file\n",
        "non_existent_file = \"non_existent.txt\"\n",
        "count_lines_in_file(non_existent_file)"
      ],
      "metadata": {
        "colab": {
          "base_uri": "https://localhost:8080/"
        },
        "id": "OvBsxs_sHfrn",
        "outputId": "f6b44d97-e8fe-4d42-edc0-71db6bfcfa69"
      },
      "execution_count": 5,
      "outputs": [
        {
          "output_type": "stream",
          "name": "stdout",
          "text": [
            "The file 'my_text_file.txt' has 3 lines.\n",
            "Error: File not found at non_existent.txt\n"
          ]
        },
        {
          "output_type": "execute_result",
          "data": {
            "text/plain": [
              "-1"
            ]
          },
          "metadata": {},
          "execution_count": 5
        }
      ]
    },
    {
      "cell_type": "markdown",
      "source": [
        "Explanation:def count_lines_in_file(filepath):: This line defines the function named count_lines_in_file which takes one argument, filepath, representing the path to the text file you want to read.\n",
        "Docstring: The triple-quoted string is a docstring, explaining what the function does, its arguments, and what it returns.\n",
        "try:: This block starts a try...except structure, which is used for error handling. The code inside the try block is attempted, and if an error occurs, the code in the corresponding except block is executed.\n",
        "with open(filepath, 'r') as file:: This line opens the file specified by filepath in read mode ('r'). The with statement ensures that the file is automatically closed even if errors occur. The opened file object is assigned to the variable file.\n",
        "line_count = sum(1 for line in file): This is a concise way to count the lines. It uses a generator expression (1 for line in file) which yields 1 for each line in the file. The sum() function then adds up all the 1s, effectively counting the lines.\n",
        "return line_count: If the file is read successfully, the function returns the calculated line_count.\n",
        "except FileNotFoundError:: This block handles the specific error FileNotFoundError, which occurs if the file specified by filepath does not exist.\n",
        "print(f\"Error: File not found at {filepath}\"): If a FileNotFoundError occurs, this line prints an error message indicating that the file was not found.\n",
        "return -1: In case of a FileNotFoundError, the function returns -1 to indicate that the file could not be read.\n",
        "except Exception as e:: This is a general exception handler that catches any other type of error (Exception) that might occur during file processing. The error object is assigned to the variable e.\n",
        "print(f\"An error occurred: {e}\"): If any other exception occurs, this line prints a generic error message along with the specific error details (e).\n",
        "return -1: In case of any other exception, the function also returns -1.\n",
        "Example usage: The code then demonstrates how to use the function by first creating a dummy text file (my_text_file_2.txt), calling the count_lines_in_file function with this file, and printing the result if the file was read successfully. It also shows an example of calling the function with a non-existent file (non_existent_2.txt) to demonstrate the error handling.\n"
      ],
      "metadata": {
        "id": "7fnqgmJbH98z"
      }
    }
  ]
}