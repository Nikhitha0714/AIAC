{
  "nbformat": 4,
  "nbformat_minor": 0,
  "metadata": {
    "colab": {
      "provenance": [],
      "authorship_tag": "ABX9TyPV2jYIV2zQiCuOsAVtQ1M6",
      "include_colab_link": true
    },
    "kernelspec": {
      "name": "python3",
      "display_name": "Python 3"
    },
    "language_info": {
      "name": "python"
    }
  },
  "cells": [
    {
      "cell_type": "markdown",
      "metadata": {
        "id": "view-in-github",
        "colab_type": "text"
      },
      "source": [
        "<a href=\"https://colab.research.google.com/github/Nikhitha0714/AIAC/blob/main/Lab2_2ipynb.ipynb\" target=\"_parent\"><img src=\"https://colab.research.google.com/assets/colab-badge.svg\" alt=\"Open In Colab\"/></a>"
      ]
    },
    {
      "cell_type": "code",
      "execution_count": null,
      "metadata": {
        "id": "b-i97Z9vr3gZ"
      },
      "outputs": [],
      "source": []
    },
    {
      "cell_type": "markdown",
      "source": [
        "Task0:Build python function to check the given number is prime or not"
      ],
      "metadata": {
        "id": "TWkMtt15tMPF"
      }
    },
    {
      "cell_type": "code",
      "source": [
        "def is_prime(number):\n",
        "    \"\"\"\n",
        "    Checks if a given number is prime.\n",
        "\n",
        "    Args:\n",
        "        number: The number to check.\n",
        "\n",
        "    Returns:\n",
        "        True if the number is prime, False otherwise.\n",
        "    \"\"\"\n",
        "    if number <= 1:\n",
        "        return False\n",
        "    for i in range(2, int(number**0.5) + 1):\n",
        "        if number % i == 0:\n",
        "            return False\n",
        "    return True\n",
        "\n",
        "# Example usage:\n",
        "print(is_prime(7))\n",
        "print(is_prime(10))"
      ],
      "metadata": {
        "colab": {
          "base_uri": "https://localhost:8080/"
        },
        "id": "Mg-6KF_GtiTQ",
        "outputId": "e63a0cec-3b09-45e8-9e5d-802ebcf76551"
      },
      "execution_count": 9,
      "outputs": [
        {
          "output_type": "stream",
          "name": "stdout",
          "text": [
            "True\n",
            "False\n"
          ]
        }
      ]
    },
    {
      "cell_type": "markdown",
      "source": [],
      "metadata": {
        "id": "coK4jOAduXp8"
      }
    },
    {
      "cell_type": "markdown",
      "source": [
        "This part of the code checks if the number is divisible by any integer from 2 up to the square root of the number.\n",
        "\n",
        "Here's a breakdown:\n",
        "\n",
        "for i in range(2, int(number**0.5) + 1):: This loop iterates through integers starting from 2 up to and including the integer part of the square root of number. We only need to check up to the square root because if a number has a divisor larger than its square root, it must also have a divisor smaller than its square root.\n",
        "if number % i == 0:: Inside the loop, this checks if number is perfectly divisible by the current integer i. If the remainder of the division is 0, it means i is a divisor of number.\n",
        "return False: If a divisor is found (meaning number is divisible by i), the function immediately returns False, indicating that the number is not prime.\n",
        "return True: If the loop completes without finding any divisors, it means the number is not divisible by any integer in the tested range, and therefore it is a prime number. In this case, the function returns True.\n"
      ],
      "metadata": {
        "id": "DE_Iapowu_6o"
      }
    }
  ]
}