{
  "nbformat": 4,
  "nbformat_minor": 0,
  "metadata": {
    "colab": {
      "provenance": [],
      "authorship_tag": "ABX9TyNnIV0b0AWrqjCHKY/E/Z74",
      "include_colab_link": true
    },
    "kernelspec": {
      "name": "python3",
      "display_name": "Python 3"
    },
    "language_info": {
      "name": "python"
    }
  },
  "cells": [
    {
      "cell_type": "markdown",
      "metadata": {
        "id": "view-in-github",
        "colab_type": "text"
      },
      "source": [
        "<a href=\"https://colab.research.google.com/github/Nikhitha0714/AIAC/blob/main/Lab2_2ipynb.ipynb\" target=\"_parent\"><img src=\"https://colab.research.google.com/assets/colab-badge.svg\" alt=\"Open In Colab\"/></a>"
      ]
    },
    {
      "cell_type": "code",
      "execution_count": null,
      "metadata": {
        "id": "b-i97Z9vr3gZ"
      },
      "outputs": [],
      "source": []
    },
    {
      "cell_type": "markdown",
      "source": [
        "Task0:Build python function to check the given number is prime or not"
      ],
      "metadata": {
        "id": "TWkMtt15tMPF"
      }
    },
    {
      "cell_type": "code",
      "source": [
        "def is_prime(number):\n",
        "    \"\"\"\n",
        "    Checks if a given number is prime.\n",
        "\n",
        "    Args:\n",
        "        number: The number to check.\n",
        "\n",
        "    Returns:\n",
        "        True if the number is prime, False otherwise.\n",
        "    \"\"\"\n",
        "    if number <= 1:\n",
        "        return False\n",
        "    for i in range(2, int(number**0.5) + 1):\n",
        "        if number % i == 0:\n",
        "            return False\n",
        "    return True\n",
        "\n",
        "# Example usage:\n",
        "print(is_prime(7))\n",
        "print(is_prime(10))"
      ],
      "metadata": {
        "colab": {
          "base_uri": "https://localhost:8080/"
        },
        "id": "Mg-6KF_GtiTQ",
        "outputId": "e63a0cec-3b09-45e8-9e5d-802ebcf76551"
      },
      "execution_count": 9,
      "outputs": [
        {
          "output_type": "stream",
          "name": "stdout",
          "text": [
            "True\n",
            "False\n"
          ]
        }
      ]
    },
    {
      "cell_type": "markdown",
      "source": [],
      "metadata": {
        "id": "coK4jOAduXp8"
      }
    },
    {
      "cell_type": "markdown",
      "source": [
        "This part of the code checks if the number is divisible by any integer from 2 up to the square root of the number.\n",
        "\n",
        "Here's a breakdown:\n",
        "\n",
        "for i in range(2, int(number**0.5) + 1):: This loop iterates through integers starting from 2 up to and including the integer part of the square root of number. We only need to check up to the square root because if a number has a divisor larger than its square root, it must also have a divisor smaller than its square root.\n",
        "if number % i == 0:: Inside the loop, this checks if number is perfectly divisible by the current integer i. If the remainder of the division is 0, it means i is a divisor of number.\n",
        "return False: If a divisor is found (meaning number is divisible by i), the function immediately returns False, indicating that the number is not prime.\n",
        "return True: If the loop completes without finding any divisors, it means the number is not divisible by any integer in the tested range, and therefore it is a prime number. In this case, the function returns True.\n"
      ],
      "metadata": {
        "id": "DE_Iapowu_6o"
      }
    },
    {
      "cell_type": "markdown",
      "source": [
        "write a function that filters out all nagative number from a\n",
        "given list.\n",
        "\n",
        "prompt:write a python functoin that filters out all\n",
        "negative numbers from a given list"
      ],
      "metadata": {
        "id": "t7v8bvSv0cUQ"
      }
    },
    {
      "cell_type": "code",
      "source": [
        "def filter_negative_numbers(numbers):\n",
        "  \"\"\"\n",
        "  Filters out negative numbers from a list.\n",
        "\n",
        "  Args:\n",
        "    numbers: A list of numbers.\n",
        "\n",
        "  Returns:\n",
        "    A new list containing only the non-negative numbers.\n",
        "  \"\"\"\n",
        "  return [number for number in numbers if number >= 0]\n",
        "\n",
        "# Example usage\n",
        "my_list = [1, -2, 3, -4, 5, 0, -6]\n",
        "filtered_list = filter_negative_numbers(my_list)\n",
        "print(filtered_list)"
      ],
      "metadata": {
        "colab": {
          "base_uri": "https://localhost:8080/"
        },
        "id": "rI0N10S51Pft",
        "outputId": "9ef7bdd0-bd3c-4337-cefd-931507da3549"
      },
      "execution_count": 10,
      "outputs": [
        {
          "output_type": "stream",
          "name": "stdout",
          "text": [
            "[1, 3, 5, 0]\n"
          ]
        }
      ]
    },
    {
      "cell_type": "markdown",
      "source": [
        "def filter_negative_numbers(numbers):: This line defines the function named filter_negative_numbers which accepts one argument, numbers, which is expected to be a list.\n",
        "\"\"\"Docstring explaining the function\"\"\": This is a docstring that explains what the function does, its arguments, and what it returns.\n",
        "return [number for number in numbers if number >= 0]: This is a list comprehension. It's a concise way to create a new list. It iterates through each number in the input numbers list and includes the number in the new list only if the condition number >= 0 is true (meaning the number is not negative).\n",
        "my_list = [1, -2, 3, -4, 5, 0, -6]: This line creates a sample list called my_list with both positive, negative, and zero values.\n",
        "filtered_list = filter_negative_numbers(my_list): This line calls the filter_negative_numbers function with my_list as input and stores the returned list (containing only non-negative numbers) in the variable filtered_list.\n",
        "print(filtered_list): This line prints the contents of the filtered_list to the console.\n"
      ],
      "metadata": {
        "id": "ze3I6i3s2Hc1"
      }
    },
    {
      "cell_type": "code",
      "source": [],
      "metadata": {
        "id": "5o8B6gou2Raw"
      },
      "execution_count": null,
      "outputs": []
    }
  ]
}