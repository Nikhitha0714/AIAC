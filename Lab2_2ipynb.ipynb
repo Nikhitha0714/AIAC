{
  "nbformat": 4,
  "nbformat_minor": 0,
  "metadata": {
    "colab": {
      "provenance": [],
      "authorship_tag": "ABX9TyP8UZGFsbKTX1idapBnWmBE",
      "include_colab_link": true
    },
    "kernelspec": {
      "name": "python3",
      "display_name": "Python 3"
    },
    "language_info": {
      "name": "python"
    }
  },
  "cells": [
    {
      "cell_type": "markdown",
      "metadata": {
        "id": "view-in-github",
        "colab_type": "text"
      },
      "source": [
        "<a href=\"https://colab.research.google.com/github/Nikhitha0714/AIAC/blob/main/Lab2_2ipynb.ipynb\" target=\"_parent\"><img src=\"https://colab.research.google.com/assets/colab-badge.svg\" alt=\"Open In Colab\"/></a>"
      ]
    },
    {
      "cell_type": "code",
      "execution_count": null,
      "metadata": {
        "id": "b-i97Z9vr3gZ"
      },
      "outputs": [],
      "source": []
    },
    {
      "cell_type": "markdown",
      "source": [
        "Task0:Build python function to check the given number is prime or not"
      ],
      "metadata": {
        "id": "TWkMtt15tMPF"
      }
    },
    {
      "cell_type": "code",
      "source": [
        "def is_prime(number):\n",
        "    \"\"\"\n",
        "    Checks if a given number is prime.\n",
        "\n",
        "    Args:\n",
        "        number: The number to check.\n",
        "\n",
        "    Returns:\n",
        "        True if the number is prime, False otherwise.\n",
        "    \"\"\"\n",
        "    if number <= 1:\n",
        "        return False\n",
        "    for i in range(2, int(number**0.5) + 1):\n",
        "        if number % i == 0:\n",
        "            return False\n",
        "    return True\n",
        "\n",
        "# Example usage:\n",
        "print(is_prime(7))\n",
        "print(is_prime(10))"
      ],
      "metadata": {
        "colab": {
          "base_uri": "https://localhost:8080/"
        },
        "id": "Mg-6KF_GtiTQ",
        "outputId": "e63a0cec-3b09-45e8-9e5d-802ebcf76551"
      },
      "execution_count": 9,
      "outputs": [
        {
          "output_type": "stream",
          "name": "stdout",
          "text": [
            "True\n",
            "False\n"
          ]
        }
      ]
    },
    {
      "cell_type": "markdown",
      "source": [],
      "metadata": {
        "id": "coK4jOAduXp8"
      }
    },
    {
      "cell_type": "markdown",
      "source": [
        "This part of the code checks if the number is divisible by any integer from 2 up to the square root of the number.\n",
        "\n",
        "Here's a breakdown:\n",
        "\n",
        "for i in range(2, int(number**0.5) + 1):: This loop iterates through integers starting from 2 up to and including the integer part of the square root of number. We only need to check up to the square root because if a number has a divisor larger than its square root, it must also have a divisor smaller than its square root.\n",
        "if number % i == 0:: Inside the loop, this checks if number is perfectly divisible by the current integer i. If the remainder of the division is 0, it means i is a divisor of number.\n",
        "return False: If a divisor is found (meaning number is divisible by i), the function immediately returns False, indicating that the number is not prime.\n",
        "return True: If the loop completes without finding any divisors, it means the number is not divisible by any integer in the tested range, and therefore it is a prime number. In this case, the function returns True.\n"
      ],
      "metadata": {
        "id": "DE_Iapowu_6o"
      }
    },
    {
      "cell_type": "markdown",
      "source": [
        "write a function that filters out all nagative number from a\n",
        "given list.\n",
        "\n",
        "prompt:write a python functoin that filters out all\n",
        "negative numbers from a given list"
      ],
      "metadata": {
        "id": "t7v8bvSv0cUQ"
      }
    },
    {
      "cell_type": "code",
      "source": [
        "def filter_negative_numbers(numbers):\n",
        "  \"\"\"\n",
        "  Filters out negative numbers from a list.\n",
        "\n",
        "  Args:\n",
        "    numbers: A list of numbers.\n",
        "\n",
        "  Returns:\n",
        "    A new list containing only the non-negative numbers.\n",
        "  \"\"\"\n",
        "  return [number for number in numbers if number >= 0]\n",
        "\n",
        "# Example usage\n",
        "my_list = [1, -2, 3, -4, 5, 0, -6]\n",
        "filtered_list = filter_negative_numbers(my_list)\n",
        "print(filtered_list)"
      ],
      "metadata": {
        "colab": {
          "base_uri": "https://localhost:8080/"
        },
        "id": "rI0N10S51Pft",
        "outputId": "9ef7bdd0-bd3c-4337-cefd-931507da3549"
      },
      "execution_count": 10,
      "outputs": [
        {
          "output_type": "stream",
          "name": "stdout",
          "text": [
            "[1, 3, 5, 0]\n"
          ]
        }
      ]
    },
    {
      "cell_type": "markdown",
      "source": [
        "def filter_negative_numbers(numbers):: This line defines the function named filter_negative_numbers which accepts one argument, numbers, which is expected to be a list.\n",
        "\"\"\"Docstring explaining the function\"\"\": This is a docstring that explains what the function does, its arguments, and what it returns.\n",
        "return [number for number in numbers if number >= 0]: This is a list comprehension. It's a concise way to create a new list. It iterates through each number in the input numbers list and includes the number in the new list only if the condition number >= 0 is true (meaning the number is not negative).\n",
        "my_list = [1, -2, 3, -4, 5, 0, -6]: This line creates a sample list called my_list with both positive, negative, and zero values.\n",
        "filtered_list = filter_negative_numbers(my_list): This line calls the filter_negative_numbers function with my_list as input and stores the returned list (containing only non-negative numbers) in the variable filtered_list.\n",
        "print(filtered_list): This line prints the contents of the filtered_list to the console.\n"
      ],
      "metadata": {
        "id": "ze3I6i3s2Hc1"
      }
    },
    {
      "cell_type": "markdown",
      "source": [],
      "metadata": {
        "id": "3u-wLEm92xce"
      }
    },
    {
      "cell_type": "markdown",
      "source": [
        "Task:Generate code that reads a text file and counts the frequency of each\n",
        "word.\n",
        "\n",
        "promt:Generate code that reads a text file and counts the frequency of each word."
      ],
      "metadata": {
        "id": "JjpLPYiv3cLi"
      }
    },
    {
      "cell_type": "code",
      "source": [
        "import string\n",
        "from collections import Counter\n",
        "\n",
        "# Create a dummy text file for demonstration\n",
        "with open(\"sample_text.txt\", \"w\") as f:\n",
        "  f.write(\"This is a sample text file.\\n\")\n",
        "  f.write(\"This text has some repeated words.\\n\")\n",
        "  f.write(\"Repeated words are good for testing.\")\n",
        "\n",
        "# Read the text file\n",
        "with open(\"sample_text.txt\", \"r\") as f:\n",
        "  text = f.read()\n",
        "\n",
        "# Process the text: remove punctuation and convert to lowercase\n",
        "translator = str.maketrans('', '', string.punctuation)\n",
        "cleaned_text = text.translate(translator).lower()\n",
        "\n",
        "# Count word frequencies using Counter\n",
        "words = cleaned_text.split()\n",
        "word_frequencies = Counter(words)\n",
        "\n",
        "# Display word frequencies\n",
        "print(\"Word Frequencies:\")\n",
        "for word, frequency in word_frequencies.items():\n",
        "  print(f\"{word}: {frequency}\")"
      ],
      "metadata": {
        "colab": {
          "base_uri": "https://localhost:8080/"
        },
        "id": "VujyhsSk54i7",
        "outputId": "a07f160d-4029-415c-f340-385bfd352285"
      },
      "execution_count": 20,
      "outputs": [
        {
          "output_type": "stream",
          "name": "stdout",
          "text": [
            "Word Frequencies:\n",
            "this: 2\n",
            "is: 1\n",
            "a: 1\n",
            "sample: 1\n",
            "text: 2\n",
            "file: 1\n",
            "has: 1\n",
            "some: 1\n",
            "repeated: 2\n",
            "words: 2\n",
            "are: 1\n",
            "good: 1\n",
            "for: 1\n",
            "testing: 1\n"
          ]
        }
      ]
    },
    {
      "cell_type": "markdown",
      "source": [],
      "metadata": {
        "id": "a3L-D85d6NgQ"
      }
    },
    {
      "cell_type": "markdown",
      "source": [
        "import string and from collections import Counter: These lines import the necessary modules. string is used for punctuation, and Counter is a specialized dictionary subclass for counting hashable objects.\n",
        "with open(\"sample_text.txt\", \"w\") as f:...: This block creates a dummy text file named \"sample_text.txt\" and writes some sample content into it. The with statement ensures the file is automatically closed.\n",
        "with open(\"sample_text.txt\", \"r\") as f:...: This block opens the \"sample_text.txt\" file for reading and reads its entire content into the text variable.\n",
        "translator = str.maketrans('', '', string.punctuation): This creates a translation table that maps all punctuation characters to None, effectively preparing them for removal.\n",
        "cleaned_text = text.translate(translator).lower(): This line removes punctuation from the text using the translator and then converts the entire text to lowercase.\n",
        "words = cleaned_text.split(): This splits the cleaned_text into a list of individual words.\n",
        "word_frequencies = Counter(words): This uses the Counter object to count the occurrences of each word in the words list and stores the frequencies in the word_frequencies dictionary.\n",
        "print(\"Word Frequencies:\") and the following loop: This part prints a header \"Word Frequencies:\" and then iterates through the word_frequencies dictionary, printing each word and its corresponding frequency.\n"
      ],
      "metadata": {
        "id": "rm47q1Po6Rgv"
      }
    },
    {
      "cell_type": "markdown",
      "source": [],
      "metadata": {
        "id": "pdp1zoI061h2"
      }
    },
    {
      "cell_type": "markdown",
      "source": [
        "Task3:Generate a Python class called Book with attributes title, author, and\n",
        "a method summary() that prints the details.\n",
        "\n",
        "promt:Generate a Python class called Book with attributes title, author, and\n",
        "a method summary() that prints the details."
      ],
      "metadata": {
        "id": "QXnzPi0w628O"
      }
    },
    {
      "cell_type": "code",
      "source": [
        "class Book:\n",
        "  \"\"\"\n",
        "  A class to represent a book.\n",
        "\n",
        "  Attributes:\n",
        "    title (str): The title of the book.\n",
        "    author (str): The author of the book.\n",
        "  \"\"\"\n",
        "  def __init__(self, title, author):\n",
        "    \"\"\"\n",
        "    Initializes a new Book object.\n",
        "\n",
        "    Args:\n",
        "      title: The title of the book.\n",
        "      author: The author of the book.\n",
        "    \"\"\"\n",
        "    self.title = title\n",
        "    self.author = author\n",
        "\n",
        "  def summary(self):\n",
        "    \"\"\"\n",
        "    Prints the details of the book.\n",
        "    \"\"\"\n",
        "    print(f\"Title: {self.title}\")\n",
        "    print(f\"Author: {self.author}\")\n",
        "\n",
        "# Example usage:\n",
        "my_book = Book(\"The Hitchhiker's Guide to the Galaxy\", \"Douglas Adams\")\n",
        "my_book.summary()"
      ],
      "metadata": {
        "colab": {
          "base_uri": "https://localhost:8080/"
        },
        "id": "d1qdmWjV7oIH",
        "outputId": "6e20a089-f967-4b22-aa0e-cb5a8103a3d9"
      },
      "execution_count": 21,
      "outputs": [
        {
          "output_type": "stream",
          "name": "stdout",
          "text": [
            "Title: The Hitchhiker's Guide to the Galaxy\n",
            "Author: Douglas Adams\n"
          ]
        }
      ]
    },
    {
      "cell_type": "markdown",
      "source": [],
      "metadata": {
        "id": "E3ADnlAu74Cv"
      }
    },
    {
      "cell_type": "markdown",
      "source": [
        "class Book:: This line defines the class named Book.\n",
        "\"\"\"Docstring for the class\"\"\": This is a docstring that explains the purpose of the class and its attributes.\n",
        "def __init__(self, title, author):: This is the constructor method. It's called when you create a new Book object. It takes self (a reference to the object itself), title, and author as arguments and initializes the title and author attributes of the object.\n",
        "def summary(self):: This defines a method named summary within the Book class. It takes self as an argument.\n",
        "\"\"\"Docstring for the summary method\"\"\": This is a docstring explaining what the summary method does.\n",
        "print(f\"Title: {self.title}\") and print(f\"Author: {self.author}\"): These lines within the summary method print the title and author of the Book object using f-strings for formatted output.\n",
        "my_book = Book(\"The Hitchhiker's Guide to the Galaxy\", \"Douglas Adams\"): This line creates an instance (object) of the Book class named my_book and passes the title and author to the constructor.\n",
        "my_book.summary(): This line calls the summary method on the my_book object, which prints the title and author of the book"
      ],
      "metadata": {
        "id": "iFyVB1Rj77jM"
      }
    },
    {
      "cell_type": "code",
      "source": [],
      "metadata": {
        "id": "A5kUcGC4787h"
      },
      "execution_count": null,
      "outputs": []
    }
  ]
}